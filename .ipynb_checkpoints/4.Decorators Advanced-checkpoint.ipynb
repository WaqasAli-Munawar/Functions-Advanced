{
 "cells": [
  {
   "cell_type": "markdown",
   "metadata": {},
   "source": [
    "**Memoizing** is the process of storing the results of a function so that the next time the function is called with the same arguments\n",
    "\n",
    "We start by setting up a dictionary that will map arguments to results. Then, as usual, we create wrapper() to be the new decorated function that this decorator returns."
   ]
  },
  {
   "cell_type": "code",
   "execution_count": 1,
   "metadata": {},
   "outputs": [],
   "source": [
    "def memoize(func):\n",
    "    \"\"\"Store the results of the decorated function for fast lookup\n",
    "    \"\"\"\n",
    "\n",
    "    # Store results in a dict that maps arguments to results\n",
    "    cache = {}\n",
    "\n",
    "    def wrapper(a,b):\n",
    "        # If these arguments haven't been seen before, call func() and store the result.\n",
    "        if (a, b) not in cache:        \n",
    "            cache[(a,b)] = func(a,b)          \n",
    "        return cache[(a, b)]\n",
    "\n",
    "    return wrapper"
   ]
  },
  {
   "cell_type": "markdown",
   "metadata": {},
   "source": [
    "Here we are memoizing slow_function(). slow_function() simply returns the sum of its arguments. In order to simulate a slow function, we have it sleep for 5 seconds before returning."
   ]
  },
  {
   "cell_type": "code",
   "execution_count": 2,
   "metadata": {},
   "outputs": [],
   "source": [
    "import time\n",
    "\n",
    "@memoize\n",
    "def slow_function(a, b):\n",
    "    print('Sleeping...')\n",
    "    time.sleep(5)\n",
    "    return a + b"
   ]
  },
  {
   "cell_type": "code",
   "execution_count": 3,
   "metadata": {},
   "outputs": [
    {
     "name": "stdout",
     "output_type": "stream",
     "text": [
      "Sleeping...\n"
     ]
    },
    {
     "data": {
      "text/plain": [
       "7"
      ]
     },
     "execution_count": 3,
     "metadata": {},
     "output_type": "execute_result"
    }
   ],
   "source": [
    "slow_function(3, 4)"
   ]
  },
  {
   "cell_type": "markdown",
   "metadata": {},
   "source": [
    "If we call slow_function() with the arguments 3 and 4 again, it will immediately return 7."
   ]
  },
  {
   "cell_type": "code",
   "execution_count": 4,
   "metadata": {},
   "outputs": [
    {
     "data": {
      "text/plain": [
       "7"
      ]
     },
     "execution_count": 4,
     "metadata": {},
     "output_type": "execute_result"
    }
   ],
   "source": [
    "slow_function(3, 4)"
   ]
  },
  {
   "cell_type": "markdown",
   "metadata": {},
   "source": [
    "Because we've stored the answer in the cache, the decorated function doesn't even have to call the original slow_function() function."
   ]
  },
  {
   "cell_type": "markdown",
   "metadata": {},
   "source": [
    "We're working on a project, and we are curious about how many times each of the functions in it gets called. So we decide to write a decorator that adds a counter to each function that we decorate. We could use this information in the future to determine whether there are sections of code that we could remove because they are no longer being used."
   ]
  },
  {
   "cell_type": "code",
   "execution_count": 5,
   "metadata": {},
   "outputs": [
    {
     "name": "stdout",
     "output_type": "stream",
     "text": [
      "calling foo()\n",
      "calling foo()\n",
      "foo() was called 2 times.\n"
     ]
    }
   ],
   "source": [
    "def counter(func):\n",
    "    def wrapper(*args, **kwargs):\n",
    "        wrapper.count += 1\n",
    "        # Call the function being decorated and return the result\n",
    "        return func(*args, **kwargs)\n",
    "    wrapper.count = 0\n",
    "    # Return the new decorated function\n",
    "    return wrapper\n",
    "\n",
    "# Decorate foo() with the counter() decorator\n",
    "@counter\n",
    "def foo():\n",
    "    print('calling foo()')\n",
    "\n",
    "foo()\n",
    "foo()\n",
    "\n",
    "print('foo() was called {} times.'.format(foo.count))"
   ]
  },
  {
   "cell_type": "markdown",
   "metadata": {},
   "source": [
    "Let's look at another example of a real world decorator.\n",
    "\n",
    "The timer() decorator runs the decorated function and then prints how long it took for the function to run. It's good to add some version of this to all of our projects because it is a pretty easy way to figure out where our computational bottlenecks are.\n",
    "\n",
    "Like most decorators, we'll start off by defining a wrapper() function. This is the function that the decorator will return. wrapper() takes any number of positional and keyword arguments, so that it can be used to decorate any function."
   ]
  },
  {
   "cell_type": "code",
   "execution_count": 26,
   "metadata": {},
   "outputs": [],
   "source": [
    "def timer(func):\n",
    "    \"\"\"A decorator that prints how long a function took to run.\"\"\"\n",
    "\n",
    "    # Define the wrapper function to return.\n",
    "    def wrapper(*args, **kwargs):\n",
    "        # When wrapper() is called, get the current time.\n",
    "        t_start = time.time()\n",
    "\n",
    "        # Call the decorated function and store the result.\n",
    "        result = func(*args, **kwargs)\n",
    "\n",
    "        # Get the total time it took to run, and print it.\n",
    "        t_total = time.time() - t_start\n",
    "\n",
    "        print('{} took {}s'.format(func.__name__, t_total))        \n",
    "        return result\n",
    "\n",
    "    return wrapper"
   ]
  },
  {
   "cell_type": "code",
   "execution_count": 27,
   "metadata": {},
   "outputs": [
    {
     "name": "stdout",
     "output_type": "stream",
     "text": [
      "sleep_n_seconds took 5.008584260940552s\n"
     ]
    }
   ],
   "source": [
    "@timer\n",
    "def sleep_n_seconds(n):\n",
    "    time.sleep(n)\n",
    "    \n",
    "sleep_n_seconds(5)"
   ]
  },
  {
   "cell_type": "code",
   "execution_count": 28,
   "metadata": {},
   "outputs": [],
   "source": [
    "def print_return_type(func):\n",
    "    # Define wrapper(), the decorated function\n",
    "    def wrapper(*args, **kwargs):\n",
    "        # Call the function being decorated\n",
    "        result = func(*args, **kwargs)\n",
    "        print('{}() returned type {}'.format(\n",
    "        func.__name__, type(result)\n",
    "        ))\n",
    "        return result\n",
    "    # Return the decorated function\n",
    "    return wrapper"
   ]
  },
  {
   "cell_type": "code",
   "execution_count": 29,
   "metadata": {},
   "outputs": [],
   "source": [
    "@print_return_type\n",
    "def foo(value):\n",
    "     return value"
   ]
  },
  {
   "cell_type": "code",
   "execution_count": 30,
   "metadata": {},
   "outputs": [
    {
     "name": "stdout",
     "output_type": "stream",
     "text": [
      "foo() returned type <class 'int'>\n",
      "42\n",
      "foo() returned type <class 'list'>\n",
      "[1, 2, 3]\n",
      "foo() returned type <class 'dict'>\n",
      "{'a': 42}\n"
     ]
    }
   ],
   "source": [
    "print(foo(42))\n",
    "print(foo([1, 2, 3]))\n",
    "print(foo({'a': 42}))"
   ]
  },
  {
   "cell_type": "markdown",
   "metadata": {},
   "source": [
    "One of the problems with decorators is that they obscure the decorated function's metadata."
   ]
  },
  {
   "cell_type": "code",
   "execution_count": 32,
   "metadata": {},
   "outputs": [],
   "source": [
    "def sleep_n_seconds(n=10):\n",
    "    \"\"\"Pause processing for n seconds.\n",
    "\n",
    "    Args:\n",
    "        n (int): The number of seconds to pause for.\n",
    "    \"\"\"\n",
    "    time.sleep(n)"
   ]
  },
  {
   "cell_type": "code",
   "execution_count": 34,
   "metadata": {},
   "outputs": [
    {
     "name": "stdout",
     "output_type": "stream",
     "text": [
      "Pause processing for n seconds.\n",
      "\n",
      "    Args:\n",
      "        n (int): The number of seconds to pause for.\n",
      "    \n",
      "\n",
      "sleep_n_seconds\n",
      "\n",
      "(10,)\n"
     ]
    }
   ],
   "source": [
    "print(sleep_n_seconds.__doc__)\n",
    "print()\n",
    "print(sleep_n_seconds.__name__)\n",
    "print()\n",
    "print(sleep_n_seconds.__defaults__)"
   ]
  },
  {
   "cell_type": "code",
   "execution_count": 6,
   "metadata": {},
   "outputs": [
    {
     "name": "stdout",
     "output_type": "stream",
     "text": [
      "None\n",
      "wrapper\n"
     ]
    }
   ],
   "source": [
    "def timer(func):\n",
    "    \"\"\"A decorator that prints how long a function took to run.\"\"\"  \n",
    "    def wrapper(*args, **kwargs):\n",
    "        t_start = time.time()\n",
    "    \n",
    "        result = func(*args, **kwargs)\n",
    "    \n",
    "        t_total = time.time() - t_start\n",
    "        print('{} took {}s'.format(func.__name__, t_total))\n",
    "    \n",
    "        return result\n",
    "    return wrapper\n",
    "\n",
    "@timer\n",
    "def sleep_n_seconds(n=10):\n",
    "    \"\"\"Pause processing for n seconds.\n",
    "  \n",
    "    Args:\n",
    "        n (int): The number of seconds to pause for.\n",
    "    \"\"\"\n",
    "    time.sleep(n)\n",
    "print(sleep_n_seconds.__doc__)\n",
    "print(sleep_n_seconds.__name__)"
   ]
  },
  {
   "cell_type": "markdown",
   "metadata": {},
   "source": [
    "We saw that when we try to print the docstring for sleep_n_seconds(), we get nothing back. Even stranger, if we try to look up the function's name, Python tells us that sleep_n_seconds()'s name is \"wrapper\"."
   ]
  },
  {
   "cell_type": "markdown",
   "metadata": {},
   "source": [
    "To understand why, we have to examine the timer() decorator. Remember that when we write decorators we almost always define a nested function to return. Because the decorator overwrites the sleep_n_seconds() function, when we ask for sleep_n_seconds()'s docstring or name, we are actually referencing the nested function that was returned by the decorator. In this case, the nested function was called wrapper() and it didn't have a docstring.\n",
    "\n",
    "Fortunately, Python provides us with an easy way to fix this. The wraps() [function](https://docs.python.org/3.7/library/functools.html#functools.wraps) from the functools [module](https://docs.python.org/3.7/library/functools.html) is a decorator that we use when defining a decorator. If we use it to decorate the wrapper function that our decorator returns, it will modify wrapper()'s metadata to look like the function we are decorating."
   ]
  },
  {
   "cell_type": "code",
   "execution_count": 39,
   "metadata": {},
   "outputs": [],
   "source": [
    "from functools import wraps\n",
    "\n",
    "def timer(func):\n",
    "    \"\"\"A decorator that prints how long a function took to run.\"\"\"\n",
    "\n",
    "    @wraps(func)\n",
    "    def wrapper(*args, **kwargs):\n",
    "        t_start = time.time()\n",
    "    \n",
    "        result = func(*args, **kwargs)\n",
    "    \n",
    "        t_total = time.time() - t_start\n",
    "        print('{} took {}s'.format(func.__name__, t_total))\n",
    "    \n",
    "        return result\n",
    "    return wrapper"
   ]
  },
  {
   "cell_type": "code",
   "execution_count": 40,
   "metadata": {},
   "outputs": [],
   "source": [
    "@timer\n",
    "def sleep_n_seconds(n=10):\n",
    "    \"\"\"Pause processing for n seconds.\n",
    "\n",
    "    Args:\n",
    "        n (int): The number of seconds to pause for.\n",
    "    \"\"\"\n",
    "    time.sleep(n)"
   ]
  },
  {
   "cell_type": "code",
   "execution_count": 41,
   "metadata": {},
   "outputs": [
    {
     "name": "stdout",
     "output_type": "stream",
     "text": [
      "Pause processing for n seconds.\n",
      "\n",
      "    Args:\n",
      "        n (int): The number of seconds to pause for.\n",
      "    \n"
     ]
    }
   ],
   "source": [
    "print(sleep_n_seconds.__doc__)"
   ]
  },
  {
   "cell_type": "markdown",
   "metadata": {},
   "source": [
    "Likewise, printing the name or any other metadata now gives us the metadata from the function being decorated rather than the metadata of the wrapper() function.\n",
    "\n",
    "As an added bonus, using wraps() when creating our decorator also gives us easy access to the original undecorated function via the '__' wrapped '__' attribute. Of course, we always had access to this function via the closure, but this is an easy way to get to it if we need it."
   ]
  },
  {
   "cell_type": "code",
   "execution_count": 42,
   "metadata": {},
   "outputs": [
    {
     "data": {
      "text/plain": [
       "<function __main__.sleep_n_seconds(n=10)>"
      ]
     },
     "execution_count": 42,
     "metadata": {},
     "output_type": "execute_result"
    }
   ],
   "source": [
    "sleep_n_seconds.__wrapped__"
   ]
  },
  {
   "cell_type": "code",
   "execution_count": 43,
   "metadata": {},
   "outputs": [
    {
     "name": "stdout",
     "output_type": "stream",
     "text": [
      "Hello\n",
      "30\n",
      "Adds two numbers and prints the sum\n"
     ]
    }
   ],
   "source": [
    "from functools import wraps\n",
    "def add_hello(func):\n",
    "    # Decorate wrapper() so that it keeps func()'s metadata\n",
    "    @wraps(func)\n",
    "    def wrapper(*args, **kwargs):\n",
    "        \"\"\"Print 'hello' and then call the decorated function.\"\"\"\n",
    "        print('Hello')\n",
    "        return func(*args, **kwargs)\n",
    "    return wrapper\n",
    "\n",
    "@add_hello\n",
    "def print_sum(a, b):\n",
    "    \"\"\"Adds two numbers and prints the sum\"\"\"\n",
    "    print(a + b)\n",
    "\n",
    "print_sum(10, 20)\n",
    "print(print_sum.__doc__)"
   ]
  },
  {
   "cell_type": "markdown",
   "metadata": {},
   "source": [
    "Sometimes it would be nice to add arguments to our decorators. To do that, we need another level of nesting in our decorators."
   ]
  },
  {
   "cell_type": "code",
   "execution_count": 1,
   "metadata": {},
   "outputs": [],
   "source": [
    "def run_three_times(func):\n",
    "    def wrapper(*args, **kwargs):\n",
    "        for _ in range(3):\n",
    "            func(*args, **kwargs)\n",
    "    return wrapper"
   ]
  },
  {
   "cell_type": "code",
   "execution_count": 2,
   "metadata": {},
   "outputs": [],
   "source": [
    "@run_three_times\n",
    "def print_sum(a, b):\n",
    "    print(a + b)\n"
   ]
  },
  {
   "cell_type": "code",
   "execution_count": 3,
   "metadata": {},
   "outputs": [
    {
     "name": "stdout",
     "output_type": "stream",
     "text": [
      "8\n",
      "8\n",
      "8\n"
     ]
    }
   ],
   "source": [
    "print_sum(3, 5)"
   ]
  },
  {
   "attachments": {
    "image.png": {
     "image/png": "[encoded data removed]"
    }
   },
   "cell_type": "markdown",
   "metadata": {},
   "source": [
    "Let's think about what we would need to change if we wanted to write a run_n_times() decorator. We want to pass n in as an argument, instead of hard-coding in the decorator.\n",
    "\n",
    "![image.png](attachment:image.png)\n",
    "\n",
    "If we had some way to pass n into the decorator, we could decorate print_sum() so that it gets run three times and decorate the print_hello() function to run five times."
   ]
  },
  {
   "attachments": {
    "image.png": {
     "image/png": "[encoded data removed]"
    }
   },
   "cell_type": "markdown",
   "metadata": {},
   "source": [
    "![image.png](attachment:image.png)\n",
    "\n",
    "But a decorator is only supposed to take one argument - the function it is decorating. Also, when we use decorator syntax, we're not supposed to use the parentheses. So how can this be done?\n",
    "\n",
    "To make run_n_times() work, we have to turn it into a function that returns a decorator, rather than a function that is a decorator."
   ]
  },
  {
   "cell_type": "markdown",
   "metadata": {},
   "source": [
    "We'll start by redefining run_n_times() so that it takes n as an argument, instead of func. Then, inside of run_n_times(), we'll define a new decorator function. This function takes func as an argument, because it is the function that will be acting as our decorator."
   ]
  },
  {
   "cell_type": "code",
   "execution_count": 7,
   "metadata": {},
   "outputs": [],
   "source": [
    "def run_n_times(n):\n",
    "    \"\"\"Define and return a decorator\"\"\"\n",
    "    def decorator(func):\n",
    "        def wrapper(*args, **kwargs):\n",
    "            for i in range(n):\n",
    "                func(*args, **kwargs)\n",
    "        return wrapper\n",
    "    return decorator"
   ]
  },
  {
   "cell_type": "markdown",
   "metadata": {},
   "source": [
    "As usual for any decorator, we return the new wrapper() function. And, if run_n_times() returns the decorator() function we just defined, then we can use that return value as a decorator."
   ]
  },
  {
   "cell_type": "code",
   "execution_count": 8,
   "metadata": {},
   "outputs": [],
   "source": [
    "@run_n_times(5)\n",
    "def print_sum(a, b):\n",
    "    print(a + b)"
   ]
  },
  {
   "cell_type": "code",
   "execution_count": 9,
   "metadata": {},
   "outputs": [
    {
     "name": "stdout",
     "output_type": "stream",
     "text": [
      "8\n",
      "8\n",
      "8\n",
      "8\n",
      "8\n"
     ]
    }
   ],
   "source": [
    "print_sum(3, 5)"
   ]
  },
  {
   "cell_type": "markdown",
   "metadata": {},
   "source": [
    "This indicates that we are actually calling run_n_times() and decorating print_sum() with the result of that function call. Since the return value from run_n_times() is a decorator function, we can use it to decorate print_sum().\n",
    "\n",
    "We could decorate print_sum() with this new decorator using decorator syntax."
   ]
  },
  {
   "cell_type": "markdown",
   "metadata": {},
   "source": [
    "Python makes it convenient to do both of those in a single step though. When we use decorator syntax, the thing that comes after the @ symbol must be a reference to a decorator function. We can use the name of a specific decorator, or we can call a function that returns a decorator."
   ]
  },
  {
   "cell_type": "code",
   "execution_count": 10,
   "metadata": {},
   "outputs": [
    {
     "name": "stdout",
     "output_type": "stream",
     "text": [
      "8\n",
      "8\n",
      "8\n",
      "Hello!\n",
      "Hello!\n",
      "Hello!\n",
      "Hello!\n",
      "Hello!\n"
     ]
    }
   ],
   "source": [
    "@run_n_times(3)\n",
    "def print_sum(a, b):\n",
    "    print(a + b)\n",
    "\n",
    "print_sum(3, 5)\n",
    "\n",
    "@run_n_times(5)\n",
    "def print_hello():\n",
    "    print('Hello!')\n",
    "\n",
    "print_hello()"
   ]
  },
  {
   "cell_type": "markdown",
   "metadata": {},
   "source": [
    "let's imagine that we have some functions that occasionally either run for longer than we want them to, or just hang and never return.\n",
    "\n",
    "It would be nice if we could add some kind of timeout() decorator to those functions that will raise an error if the function runs for longer than expected.\n",
    "\n",
    "To create the timeout() decorator, we are going to use some functions from Python's signal [module](https://docs.python.org/3/library/signal.html). These functions have nothing to do with decorators, but understanding them will help us understand the timeout() decorator.\n",
    "\n",
    "The raise_timeout() function simply raises a TimeoutError when it is called."
   ]
  },
  {
   "cell_type": "code",
   "execution_count": 11,
   "metadata": {},
   "outputs": [],
   "source": [
    "import signal\n",
    "\n",
    "def raise_timeout(*args, **kwargs):\n",
    "    raise TimeoutError()"
   ]
  },
  {
   "cell_type": "markdown",
   "metadata": {},
   "source": [
    "The signal() function tells Python, \"When you see the signal whose number is signalnum, call the handler function.\" In this case, we tell Python to call raise_timeout() whenever it sees the alarm signal."
   ]
  },
  {
   "cell_type": "code",
   "execution_count": 15,
   "metadata": {},
   "outputs": [
    {
     "data": {
      "text/plain": [
       "<function _signal.default_int_handler>"
      ]
     },
     "execution_count": 15,
     "metadata": {},
     "output_type": "execute_result"
    }
   ],
   "source": [
    "# When an \"alarm\" signal goes off, call raise_timeout()\n",
    "signal.signal(signalnum=2, handler=raise_timeout)"
   ]
  },
  {
   "cell_type": "markdown",
   "metadata": {},
   "source": [
    "The alarm() function lets us set an alarm for some number of seconds in the future."
   ]
  },
  {
   "attachments": {
    "image.png": {
     "image/png": "[encoded data removed]"
    }
   },
   "cell_type": "markdown",
   "metadata": {},
   "source": [
    "![image.png](attachment:image.png)"
   ]
  },
  {
   "cell_type": "markdown",
   "metadata": {},
   "source": [
    "We'll start by creating a decorator that times out in exactly 5 seconds, and then build from there to create a decorator that takes the timeout length as an argument.\n",
    "\n",
    "Our timeout_in_5s() decorator starts off by defining a wrapper() function to return as the new decorated function. Returning this function is what makes timeout_in_5s() a decorator."
   ]
  },
  {
   "cell_type": "code",
   "execution_count": 122,
   "metadata": {},
   "outputs": [],
   "source": [
    "import signal\n",
    "def timeout_in_5s(func):\n",
    "    @wraps(func)\n",
    "    def wrapper(*args, **kwargs):\n",
    "        # Set an alarm for 5 seconds\n",
    "        signal.alarm(5)\n",
    "        try:\n",
    "            # Call the decorated func\n",
    "            return func(*args, **kwargs)\n",
    "        finally:\n",
    "            # Cancel alarm\n",
    "            signal.alarm(0)\n",
    "    return wrapper"
   ]
  },
  {
   "cell_type": "markdown",
   "metadata": {},
   "source": [
    "First wrapper() sets an alarm for 5 seconds in the future.\n",
    "\n",
    "Then it calls the function being decorated. It wraps that call in a try block so that in a finally block we can cancel the alarm. This ensures that the alarm either rings or gets canceled. Remember, when the alarm rings, Python calls the raise_timeout() function."
   ]
  },
  {
   "cell_type": "code",
   "execution_count": 123,
   "metadata": {},
   "outputs": [],
   "source": [
    "@timeout_in_5s\n",
    "def foo():\n",
    "    time.sleep(10)\n",
    "    print('foo!')"
   ]
  },
  {
   "cell_type": "markdown",
   "metadata": {},
   "source": [
    "If we call foo(), the 5 second alarm will ring before it finishes sleeping, and Python will raise a TimeoutErrror."
   ]
  },
  {
   "cell_type": "code",
   "execution_count": null,
   "metadata": {},
   "outputs": [],
   "source": [
    "foo()"
   ]
  },
  {
   "cell_type": "code",
   "execution_count": 83,
   "metadata": {},
   "outputs": [
    {
     "name": "stdout",
     "output_type": "stream",
     "text": [
      "bar!\n"
     ]
    }
   ],
   "source": [
    "def timeout(n_seconds):\n",
    "    def decorator(func):\n",
    "        @wraps(func)\n",
    "        def wrapper(*args, **kwargs):\n",
    "            # Set an alarm for n seconds\n",
    "            signal.alarm(n_seconds)\n",
    "            try:\n",
    "               # Call the decorated func\n",
    "               return func(*args, **kwargs)\n",
    "            finally:\n",
    "               # Cancel alarm\n",
    "               signal.alarm(0)\n",
    "        return wrapper\n",
    "    return decorator\n",
    "\n",
    "@timeout(20)\n",
    "def bar():\n",
    "    time.sleep(10)\n",
    "    print('bar!')\n",
    "bar()"
   ]
  },
  {
   "cell_type": "markdown",
   "metadata": {},
   "source": [
    "We created a more useful version of the timeout() decorator. This decorator takes an argument that allows us to set a timeout that is appropriate for each function.\n",
    "\n",
    "Notice that wrapper() returns the result of calling func(), decorator() returns wrapper, and timeout() returns decorator.\n",
    "\n",
    "timeout() is now a function that returns a decorator. We can think of it as a decorator factory. When we call timeout(), it cranks out a brand new decorator that times out in 5 seconds, or 20 seconds, or whatever value we pass as n_seconds.\n",
    "\n",
    "So when we called bar(), which has a 20-second timeout, it printed its message in 10 seconds, so the alarm got canceled."
   ]
  },
  {
   "cell_type": "markdown",
   "metadata": {},
   "source": [
    "However, if we called foo() instead, which has a 5-second timeout, it will timeout."
   ]
  },
  {
   "cell_type": "code",
   "execution_count": null,
   "metadata": {},
   "outputs": [],
   "source": [
    "@timeout(5)\n",
    "def foo():\n",
    "    time.sleep(10)\n",
    "    print('foo!')\n",
    "\n",
    "foo()"
   ]
  },
  {
   "cell_type": "code",
   "execution_count": 66,
   "metadata": {},
   "outputs": [
    {
     "name": "stdout",
     "output_type": "stream",
     "text": [
      "('test', 'this is a tag')\n"
     ]
    }
   ],
   "source": [
    "def tag(*tags):\n",
    "    # Define a new decorator, named decorator(), to return\n",
    "    def decorator(func):\n",
    "        # Ensure the decorated function keeps its metadata\n",
    "        @wraps(func)\n",
    "        def wrapper(*args, **kwargs):\n",
    "            # Call the function being decorated and return the result\n",
    "            return func(*args, **kwargs)\n",
    "        wrapper.tags = tags\n",
    "        return wrapper\n",
    "    # Return the new decorator\n",
    "    return decorator\n",
    "\n",
    "@tag('test', 'this is a tag')\n",
    "def foo():\n",
    "    pass\n",
    "\n",
    "print(foo.tags)"
   ]
  },
  {
   "cell_type": "code",
   "execution_count": null,
   "metadata": {},
   "outputs": [],
   "source": []
  }
 ],
 "metadata": {
  "kernelspec": {
   "display_name": "Python 3",
   "language": "python",
   "name": "python3"
  },
  "language_info": {
   "codemirror_mode": {
    "name": "ipython",
    "version": 3
   },
   "file_extension": ".py",
   "mimetype": "text/x-python",
   "name": "python",
   "nbconvert_exporter": "python",
   "pygments_lexer": "ipython3",
   "version": "3.7.3"
  }
 },
 "nbformat": 4,
 "nbformat_minor": 2
}

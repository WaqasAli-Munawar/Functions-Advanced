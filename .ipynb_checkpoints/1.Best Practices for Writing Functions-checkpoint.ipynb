{
 "cells": [
  {
   "cell_type": "markdown",
   "metadata": {},
   "source": [
    "In this project, we'll cover some best practices that will make our code much easier to use, read, and maintain, including:\n",
    "\n",
    "* How to document our code so that others can easily understand it.\n",
    "* How to create functions that are easier to test, debug, and change.\n",
    "* How to setup default arguments in functions so that our code doesn't behave unexpectedly."
   ]
  },
  {
   "cell_type": "markdown",
   "metadata": {},
   "source": [
    "If we wanted to understand what the function does, what the arguments are supposed to be, and what it returns, we would have to spend some time deciphering the code.\n",
    "\n",
    "With a **docstring** though, it is much easier to tell what the expected inputs and outputs should be, as well as what the function does. A [docstring](https://en.wikipedia.org/wiki/Docstring) is a string written as the first line of a function. Because docstrings usually span multiple lines, they are enclosed in triple quotes, Python's way of writing multi-line strings:"
   ]
  },
  {
   "cell_type": "code",
   "execution_count": 1,
   "metadata": {},
   "outputs": [],
   "source": [
    "def split_and_stack(df, new_names):\n",
    "    \"\"\"Split a DataFrame's columns into two halves and then stack\n",
    "    them vertically, returning a new DataFrame with `new_names` as the\n",
    "    column names.\n",
    "\n",
    "    Args:\n",
    "      df (DataFrame): The DataFrame to split.\n",
    "      new_names (iterable of str): The column names for the new DataFrame.\n",
    "\n",
    "    Returns:\n",
    "      DataFrame\n",
    "    \"\"\"\n",
    "    half = int(len(df.columns) / 2)\n",
    "    left = df.iloc[:, :half]\n",
    "    right = df.iloc[:, half:]\n",
    "    return pd.DataFrame(\n",
    "      data=np.vstack([left.values, right.values]),\n",
    "      columns=new_names\n",
    "    )"
   ]
  },
  {
   "cell_type": "markdown",
   "metadata": {},
   "source": [
    "Every docstring has some (although usually not all) of these five key pieces of information:\n",
    "\n",
    "1. Description of what the function does.\n",
    "2. Description of the arguments, if any.\n",
    "3. Description of the return value(s), if any.\n",
    "4. Description of errors raised, if any.\n",
    "5. Optional extra notes or examples of usage.\n",
    "\n",
    "Docstrings makes it easier for us and other data scientists or engineers to use, read, and maintain our code in the future. Remember that even though computers execute it, code is actually written for humans to read (otherwise we'd just be writing the 1s and 0s that the computer operates on)."
   ]
  },
  {
   "cell_type": "markdown",
   "metadata": {},
   "source": [
    "Every function in Python comes with a [__doc__ attribute](https://docs.python.org/3/reference/datamodel.html#the-standard-type-hierarchy) that holds the contents of the function's docstring."
   ]
  },
  {
   "cell_type": "code",
   "execution_count": 2,
   "metadata": {},
   "outputs": [
    {
     "name": "stdout",
     "output_type": "stream",
     "text": [
      "Split a DataFrame's columns into two halves and then stack\n",
      "    them vertically, returning a new DataFrame with `new_names` as the\n",
      "    column names.\n",
      "\n",
      "    Args:\n",
      "      df (DataFrame): The DataFrame to split.\n",
      "      new_names (iterable of str): The column names for the new DataFrame.\n",
      "\n",
      "    Returns:\n",
      "      DataFrame\n",
      "    \n"
     ]
    }
   ],
   "source": [
    "print(split_and_stack.__doc__)"
   ]
  },
  {
   "cell_type": "markdown",
   "metadata": {},
   "source": [
    "Notice that the __doc__ attribute contains the raw docstring, including any tabs or spaces that were added to make the words visually line up.\n",
    "\n",
    "To get a cleaner version, with those leading spaces removed, we can use the [getdoc() function](https://docs.python.org/3/library/inspect.html#retrieving-source-code) from the inspect module."
   ]
  },
  {
   "cell_type": "code",
   "execution_count": 3,
   "metadata": {},
   "outputs": [
    {
     "name": "stdout",
     "output_type": "stream",
     "text": [
      "Split a DataFrame's columns into two halves and then stack\n",
      "them vertically, returning a new DataFrame with `new_names` as the\n",
      "column names.\n",
      "\n",
      "Args:\n",
      "  df (DataFrame): The DataFrame to split.\n",
      "  new_names (iterable of str): The column names for the new DataFrame.\n",
      "\n",
      "Returns:\n",
      "  DataFrame\n"
     ]
    }
   ],
   "source": [
    "import inspect\n",
    "print(inspect.getdoc(split_and_stack))"
   ]
  },
  {
   "cell_type": "markdown",
   "metadata": {},
   "source": [
    "Consistent style makes a project easier to read, and the Python community has evolved several standards for how to format docstrings. [Google style](http://google.github.io/styleguide/pyguide.html#38-comments-and-docstrings) and [Numpydoc](https://numpydoc.readthedocs.io/en/latest/format.html) are the most popular formats.\n",
    "\n",
    "However, since Numpydoc takes up more vertical space, we'll focus on Google style to keep the examples compact and legible.\n",
    "\n",
    "In Google style, \n",
    "\n",
    "1. the docstring starts with a concise description of what the function does.\n",
    "\n",
    "2. Next comes the \"Args\" section where we list each argument name, followed by its expected type in parentheses, and then its role in the function. If an argument has a default value, mark it as \"optional\" when describing the type. If the function does not take any parameters, leave this section out.\n",
    "\n",
    "3. The next section is the \"Returns\" section, where we list the expected type or types of what gets returned."
   ]
  },
  {
   "cell_type": "markdown",
   "metadata": {},
   "source": [
    "However, every docstring can also contain two additional pieces of information:\n",
    "4. Description of errors raised, if any.\n",
    "5. Optional extra notes or examples of usage.\n",
    "\n",
    "If our function intentionally raises any errors, we should add a \"Raises\" section, like below. We can also include any additional notes or examples of usage in free form text at the end:"
   ]
  },
  {
   "cell_type": "raw",
   "metadata": {},
   "source": [
    "def function(arg_1, arg_2=42):\n",
    "    \"\"\"Description of what the function does.\n",
    "\n",
    "    Args:\n",
    "      arg_1 (str): Description of arg_1 that can break onto the next line\n",
    "        if needed.\n",
    "      arg_2 (int, optional): Write optional when an argument has a default\n",
    "        value.\n",
    "\n",
    "    Returns:\n",
    "      bool: Optional description of the return value\n",
    "      Extra lines are not indented.\n",
    "\n",
    "    Raises:\n",
    "      ValueError: Include any error types that the function intentionally\n",
    "        raises.\n",
    "\n",
    "    Notes:\n",
    "      See https://www.dataquest.io for more info.  \n",
    "    \"\"\""
   ]
  },
  {
   "cell_type": "markdown",
   "metadata": {},
   "source": [
    "Now that we know how to make our functions easier to understand, let's look at how we can also make them easier to test, debug, and change. The [Don't repeat yourself](https://en.wikipedia.org/wiki/Don%27t_repeat_yourself) principle, also known as **DRY**, and the **Do One Thing principle** are good ways to ensure that our functions are well designed and easy to test.\n",
    "\n",
    "When we write code to look for answers to a research question, it is totally normal to copy and paste a bit of code, tweak it slightly, and re-run it. However this, kind of repeated code can lead to real problems."
   ]
  },
  {
   "cell_type": "markdown",
   "metadata": {},
   "source": [
    "One of the problems with copying and pasting is that it is easy to accidentally introduce errors that are hard to spot.\n",
    "\n",
    "Another problem with repeated code is that if we want to change something, we often have to do it in multiple places. For instance, if we realized that our CSVs used the column name \"label\" instead of \"labels,\" we would have to change our code in six places. Repeated code like this is a good sign that we should write a function.\n",
    "\n",
    "Wrapping the repeated logic in a function and then calling that function several times makes it much easier to avoid the kind of errors introduced by copying and pasting."
   ]
  },
  {
   "cell_type": "markdown",
   "metadata": {},
   "source": [
    "Instead of one big function, we could have a more nimble function.\n",
    "\n",
    "We get several advantages from splitting function into smaller functions. Our code becomes:\n",
    "\n",
    "* More flexible\n",
    "* More easily understood\n",
    "* Simpler to test\n",
    "* Simpler to debug\n",
    "* Easier to change"
   ]
  },
  {
   "cell_type": "code",
   "execution_count": null,
   "metadata": {},
   "outputs": [],
   "source": []
  }
 ],
 "metadata": {
  "kernelspec": {
   "display_name": "Python 3",
   "language": "python",
   "name": "python3"
  },
  "language_info": {
   "codemirror_mode": {
    "name": "ipython",
    "version": 3
   },
   "file_extension": ".py",
   "mimetype": "text/x-python",
   "name": "python",
   "nbconvert_exporter": "python",
   "pygments_lexer": "ipython3",
   "version": "3.7.3"
  }
 },
 "nbformat": 4,
 "nbformat_minor": 2
}
